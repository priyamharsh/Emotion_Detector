{
 "cells": [
  {
   "cell_type": "code",
   "execution_count": 9,
   "id": "154459f7-3e90-4455-8517-5e7c652959ab",
   "metadata": {
    "tags": []
   },
   "outputs": [],
   "source": [
    "import tensorflow as tf\n",
    "import numpy as np\n",
    "import cv2\n",
    "from keras.preprocessing.image import ImageDataGenerator"
   ]
  },
  {
   "cell_type": "code",
   "execution_count": 10,
   "id": "c1b0d083-7e92-4154-a8ba-3db7c057e823",
   "metadata": {},
   "outputs": [
    {
     "name": "stdout",
     "output_type": "stream",
     "text": [
      "Found 28709 images belonging to 7 classes.\n",
      "Found 7178 images belonging to 7 classes.\n"
     ]
    }
   ],
   "source": [
    "train_dataset = '/home/priyam/Downloads/archive/train'\n",
    "val_dataset = '/home/priyam/Downloads/archive/test'\n",
    "train_gen = ImageDataGenerator(rescale=1./255)\n",
    "val_gen = ImageDataGenerator(rescale=1./255)\n",
    "train_generator = train_gen.flow_from_directory(\n",
    "                    train_dataset,\n",
    "                    target_size=(48, 48),\n",
    "                    batch_size=32,\n",
    "                    class_mode='categorical',\n",
    "                    color_mode = \"grayscale\")\n",
    "val_generator = val_gen.flow_from_directory(\n",
    "                    val_dataset,\n",
    "                    target_size=(48, 48),\n",
    "                    batch_size=32,\n",
    "                    class_mode='categorical',\n",
    "                    color_mode = \"grayscale\")"
   ]
  },
  {
   "cell_type": "code",
   "execution_count": 11,
   "id": "75f80437-5ea5-4bce-a145-c968bdf1ce8c",
   "metadata": {
    "tags": []
   },
   "outputs": [],
   "source": [
    "model = tf.keras.models.Sequential()\n",
    "model.add(tf.keras.layers.Conv2D(filters=32, kernel_size=(3, 3), activation='relu', input_shape=(48, 48, 1)))\n",
    "model.add(tf.keras.layers.Conv2D(filters=64, kernel_size=(3, 3), activation='relu'))\n",
    "model.add(tf.keras.layers.MaxPooling2D(pool_size=(2, 2)))\n",
    "model.add(tf.keras.layers.Dropout(0.25))\n",
    "\n",
    "model.add(tf.keras.layers.Conv2D(filters=128, kernel_size=(3, 3), activation='relu'))\n",
    "model.add(tf.keras.layers.MaxPooling2D(pool_size=(2, 2)))\n",
    "model.add(tf.keras.layers.Conv2D(filters=128, kernel_size=(3, 3), activation='relu'))\n",
    "model.add(tf.keras.layers.MaxPooling2D(pool_size=(2, 2)))\n",
    "model.add(tf.keras.layers.Dropout(0.25))\n",
    "\n",
    "model.add(tf.keras.layers.Flatten())\n",
    "model.add(tf.keras.layers.Dense(1024, activation='relu'))\n",
    "model.add(tf.keras.layers.Dropout(0.5))\n",
    "model.add(tf.keras.layers.Dense(7, activation='softmax'))"
   ]
  },
  {
   "cell_type": "code",
   "execution_count": 12,
   "id": "3b130378-2fad-4854-957b-ecce50eb126a",
   "metadata": {},
   "outputs": [
    {
     "name": "stdout",
     "output_type": "stream",
     "text": [
      "Model: \"sequential_1\"\n",
      "_________________________________________________________________\n",
      " Layer (type)                Output Shape              Param #   \n",
      "=================================================================\n",
      " conv2d_4 (Conv2D)           (None, 46, 46, 32)        320       \n",
      "                                                                 \n",
      " conv2d_5 (Conv2D)           (None, 44, 44, 64)        18496     \n",
      "                                                                 \n",
      " max_pooling2d_3 (MaxPooling  (None, 22, 22, 64)       0         \n",
      " 2D)                                                             \n",
      "                                                                 \n",
      " dropout_3 (Dropout)         (None, 22, 22, 64)        0         \n",
      "                                                                 \n",
      " conv2d_6 (Conv2D)           (None, 20, 20, 128)       73856     \n",
      "                                                                 \n",
      " max_pooling2d_4 (MaxPooling  (None, 10, 10, 128)      0         \n",
      " 2D)                                                             \n",
      "                                                                 \n",
      " conv2d_7 (Conv2D)           (None, 8, 8, 128)         147584    \n",
      "                                                                 \n",
      " max_pooling2d_5 (MaxPooling  (None, 4, 4, 128)        0         \n",
      " 2D)                                                             \n",
      "                                                                 \n",
      " dropout_4 (Dropout)         (None, 4, 4, 128)         0         \n",
      "                                                                 \n",
      " flatten_1 (Flatten)         (None, 2048)              0         \n",
      "                                                                 \n",
      " dense_2 (Dense)             (None, 1024)              2098176   \n",
      "                                                                 \n",
      " dropout_5 (Dropout)         (None, 1024)              0         \n",
      "                                                                 \n",
      " dense_3 (Dense)             (None, 7)                 7175      \n",
      "                                                                 \n",
      "=================================================================\n",
      "Total params: 2,345,607\n",
      "Trainable params: 2,345,607\n",
      "Non-trainable params: 0\n",
      "_________________________________________________________________\n"
     ]
    }
   ],
   "source": [
    "model.compile(loss='categorical_crossentropy',\n",
    "             optimizer=tf.keras.optimizers.Adam(learning_rate=0.0001, decay=1e-6),\n",
    "             metrics=['accuracy'])\n",
    "model.summary()"
   ]
  },
  {
   "cell_type": "code",
   "execution_count": 13,
   "id": "41f6998a-40d7-4f6c-bf75-653168c3c14f",
   "metadata": {},
   "outputs": [
    {
     "name": "stderr",
     "output_type": "stream",
     "text": [
      "/tmp/ipykernel_712770/4263074362.py:1: UserWarning: `Model.fit_generator` is deprecated and will be removed in a future version. Please use `Model.fit`, which supports generators.\n",
      "  history = model.fit_generator(train_generator, validation_data=val_generator, epochs=50)\n"
     ]
    },
    {
     "name": "stdout",
     "output_type": "stream",
     "text": [
      "Epoch 1/50\n",
      "  1/898 [..............................] - ETA: 8:48 - loss: 1.9827 - accuracy: 0.0938"
     ]
    },
    {
     "name": "stderr",
     "output_type": "stream",
     "text": [
      "2022-11-07 09:09:13.857186: W tensorflow/core/framework/cpu_allocator_impl.cc:82] Allocation of 15859712 exceeds 10% of free system memory.\n",
      "2022-11-07 09:09:13.920204: W tensorflow/core/framework/cpu_allocator_impl.cc:82] Allocation of 21196800 exceeds 10% of free system memory.\n",
      "2022-11-07 09:09:13.920266: W tensorflow/core/framework/cpu_allocator_impl.cc:82] Allocation of 21196800 exceeds 10% of free system memory.\n",
      "2022-11-07 09:09:13.943584: W tensorflow/core/framework/cpu_allocator_impl.cc:82] Allocation of 15859712 exceeds 10% of free system memory.\n",
      "2022-11-07 09:09:13.959882: W tensorflow/core/framework/cpu_allocator_impl.cc:82] Allocation of 26763264 exceeds 10% of free system memory.\n"
     ]
    },
    {
     "name": "stdout",
     "output_type": "stream",
     "text": [
      "898/898 [==============================] - 147s 164ms/step - loss: 1.7721 - accuracy: 0.2781 - val_loss: 1.6369 - val_accuracy: 0.3814\n",
      "Epoch 2/50\n",
      "898/898 [==============================] - 144s 160ms/step - loss: 1.5862 - accuracy: 0.3878 - val_loss: 1.5027 - val_accuracy: 0.4207\n",
      "Epoch 3/50\n",
      "898/898 [==============================] - 130s 145ms/step - loss: 1.4870 - accuracy: 0.4284 - val_loss: 1.4202 - val_accuracy: 0.4597\n",
      "Epoch 4/50\n",
      "898/898 [==============================] - 135s 150ms/step - loss: 1.4101 - accuracy: 0.4636 - val_loss: 1.3743 - val_accuracy: 0.4751\n",
      "Epoch 5/50\n",
      "898/898 [==============================] - 140s 156ms/step - loss: 1.3522 - accuracy: 0.4844 - val_loss: 1.3169 - val_accuracy: 0.4997\n",
      "Epoch 6/50\n",
      "898/898 [==============================] - 138s 154ms/step - loss: 1.2957 - accuracy: 0.5082 - val_loss: 1.2597 - val_accuracy: 0.5228\n",
      "Epoch 7/50\n",
      "898/898 [==============================] - 151s 169ms/step - loss: 1.2500 - accuracy: 0.5329 - val_loss: 1.2253 - val_accuracy: 0.5329\n",
      "Epoch 8/50\n",
      "898/898 [==============================] - 147s 164ms/step - loss: 1.2045 - accuracy: 0.5467 - val_loss: 1.1901 - val_accuracy: 0.5520\n",
      "Epoch 9/50\n",
      "898/898 [==============================] - 161s 179ms/step - loss: 1.1660 - accuracy: 0.5645 - val_loss: 1.1785 - val_accuracy: 0.5535\n",
      "Epoch 10/50\n",
      "898/898 [==============================] - 162s 180ms/step - loss: 1.1272 - accuracy: 0.5796 - val_loss: 1.1646 - val_accuracy: 0.5602\n",
      "Epoch 11/50\n",
      "898/898 [==============================] - 140s 156ms/step - loss: 1.0941 - accuracy: 0.5939 - val_loss: 1.1555 - val_accuracy: 0.5670\n",
      "Epoch 12/50\n",
      "898/898 [==============================] - 132s 147ms/step - loss: 1.0695 - accuracy: 0.5997 - val_loss: 1.1209 - val_accuracy: 0.5776\n",
      "Epoch 13/50\n",
      "898/898 [==============================] - 124s 138ms/step - loss: 1.0356 - accuracy: 0.6148 - val_loss: 1.1207 - val_accuracy: 0.5751\n",
      "Epoch 14/50\n",
      "898/898 [==============================] - 132s 147ms/step - loss: 1.0082 - accuracy: 0.6251 - val_loss: 1.1053 - val_accuracy: 0.5847\n",
      "Epoch 15/50\n",
      "898/898 [==============================] - 118s 132ms/step - loss: 0.9769 - accuracy: 0.6407 - val_loss: 1.0934 - val_accuracy: 0.5929\n",
      "Epoch 16/50\n",
      "898/898 [==============================] - 119s 133ms/step - loss: 0.9426 - accuracy: 0.6509 - val_loss: 1.0895 - val_accuracy: 0.5964\n",
      "Epoch 17/50\n",
      "898/898 [==============================] - 136s 151ms/step - loss: 0.9151 - accuracy: 0.6632 - val_loss: 1.0987 - val_accuracy: 0.5946\n",
      "Epoch 18/50\n",
      "898/898 [==============================] - 141s 157ms/step - loss: 0.8907 - accuracy: 0.6745 - val_loss: 1.0795 - val_accuracy: 0.6034\n",
      "Epoch 19/50\n",
      "898/898 [==============================] - 142s 158ms/step - loss: 0.8561 - accuracy: 0.6894 - val_loss: 1.0788 - val_accuracy: 0.6027\n",
      "Epoch 20/50\n",
      "898/898 [==============================] - 143s 160ms/step - loss: 0.8254 - accuracy: 0.7001 - val_loss: 1.0975 - val_accuracy: 0.6006\n",
      "Epoch 21/50\n",
      "898/898 [==============================] - 141s 157ms/step - loss: 0.7926 - accuracy: 0.7131 - val_loss: 1.0680 - val_accuracy: 0.6135\n",
      "Epoch 22/50\n",
      "898/898 [==============================] - 138s 153ms/step - loss: 0.7686 - accuracy: 0.7207 - val_loss: 1.0818 - val_accuracy: 0.6080\n",
      "Epoch 23/50\n",
      "898/898 [==============================] - 138s 154ms/step - loss: 0.7338 - accuracy: 0.7322 - val_loss: 1.0750 - val_accuracy: 0.6094\n",
      "Epoch 24/50\n",
      "898/898 [==============================] - 139s 155ms/step - loss: 0.7031 - accuracy: 0.7434 - val_loss: 1.0946 - val_accuracy: 0.6096\n",
      "Epoch 25/50\n",
      "898/898 [==============================] - 135s 150ms/step - loss: 0.6762 - accuracy: 0.7545 - val_loss: 1.0985 - val_accuracy: 0.6082\n",
      "Epoch 26/50\n",
      "898/898 [==============================] - 137s 152ms/step - loss: 0.6505 - accuracy: 0.7618 - val_loss: 1.1059 - val_accuracy: 0.6126\n",
      "Epoch 27/50\n",
      "898/898 [==============================] - 136s 151ms/step - loss: 0.6219 - accuracy: 0.7764 - val_loss: 1.0969 - val_accuracy: 0.6144\n",
      "Epoch 28/50\n",
      "898/898 [==============================] - 138s 154ms/step - loss: 0.6012 - accuracy: 0.7820 - val_loss: 1.1041 - val_accuracy: 0.6184\n",
      "Epoch 29/50\n",
      "898/898 [==============================] - 150s 167ms/step - loss: 0.5758 - accuracy: 0.7919 - val_loss: 1.1165 - val_accuracy: 0.6135\n",
      "Epoch 30/50\n",
      "898/898 [==============================] - 143s 160ms/step - loss: 0.5435 - accuracy: 0.8036 - val_loss: 1.1269 - val_accuracy: 0.6273\n",
      "Epoch 31/50\n",
      "898/898 [==============================] - 136s 152ms/step - loss: 0.5221 - accuracy: 0.8113 - val_loss: 1.1408 - val_accuracy: 0.6205\n",
      "Epoch 32/50\n",
      "898/898 [==============================] - 123s 137ms/step - loss: 0.5103 - accuracy: 0.8151 - val_loss: 1.1540 - val_accuracy: 0.6199\n",
      "Epoch 33/50\n",
      "898/898 [==============================] - 136s 152ms/step - loss: 0.4858 - accuracy: 0.8245 - val_loss: 1.1555 - val_accuracy: 0.6271\n",
      "Epoch 34/50\n",
      "898/898 [==============================] - 134s 149ms/step - loss: 0.4551 - accuracy: 0.8383 - val_loss: 1.1674 - val_accuracy: 0.6211\n",
      "Epoch 35/50\n",
      "898/898 [==============================] - 135s 151ms/step - loss: 0.4438 - accuracy: 0.8390 - val_loss: 1.1887 - val_accuracy: 0.6237\n",
      "Epoch 36/50\n",
      "898/898 [==============================] - 151s 169ms/step - loss: 0.4315 - accuracy: 0.8455 - val_loss: 1.1898 - val_accuracy: 0.6212\n",
      "Epoch 37/50\n",
      "898/898 [==============================] - 151s 169ms/step - loss: 0.4121 - accuracy: 0.8515 - val_loss: 1.1863 - val_accuracy: 0.6220\n",
      "Epoch 38/50\n",
      "898/898 [==============================] - 140s 156ms/step - loss: 0.3945 - accuracy: 0.8569 - val_loss: 1.2115 - val_accuracy: 0.6248\n",
      "Epoch 39/50\n",
      "898/898 [==============================] - 122s 136ms/step - loss: 0.3812 - accuracy: 0.8624 - val_loss: 1.2451 - val_accuracy: 0.6232\n",
      "Epoch 40/50\n",
      "898/898 [==============================] - 116s 129ms/step - loss: 0.3627 - accuracy: 0.8685 - val_loss: 1.2239 - val_accuracy: 0.6268\n",
      "Epoch 41/50\n",
      "898/898 [==============================] - 115s 128ms/step - loss: 0.3567 - accuracy: 0.8715 - val_loss: 1.2634 - val_accuracy: 0.6305\n",
      "Epoch 42/50\n",
      "898/898 [==============================] - 115s 128ms/step - loss: 0.3338 - accuracy: 0.8807 - val_loss: 1.2669 - val_accuracy: 0.6220\n",
      "Epoch 43/50\n",
      "898/898 [==============================] - 115s 128ms/step - loss: 0.3319 - accuracy: 0.8809 - val_loss: 1.2831 - val_accuracy: 0.6258\n",
      "Epoch 44/50\n",
      "898/898 [==============================] - 115s 128ms/step - loss: 0.3112 - accuracy: 0.8894 - val_loss: 1.3061 - val_accuracy: 0.6266\n",
      "Epoch 45/50\n",
      "898/898 [==============================] - 126s 140ms/step - loss: 0.3034 - accuracy: 0.8911 - val_loss: 1.3156 - val_accuracy: 0.6201\n",
      "Epoch 46/50\n",
      "898/898 [==============================] - 147s 164ms/step - loss: 0.2991 - accuracy: 0.8927 - val_loss: 1.3061 - val_accuracy: 0.6251\n",
      "Epoch 47/50\n",
      "898/898 [==============================] - 141s 158ms/step - loss: 0.2798 - accuracy: 0.8998 - val_loss: 1.3255 - val_accuracy: 0.6257\n",
      "Epoch 48/50\n",
      "898/898 [==============================] - 128s 142ms/step - loss: 0.2784 - accuracy: 0.9018 - val_loss: 1.3347 - val_accuracy: 0.6262\n",
      "Epoch 49/50\n",
      "898/898 [==============================] - 131s 146ms/step - loss: 0.2705 - accuracy: 0.9042 - val_loss: 1.3343 - val_accuracy: 0.6290\n",
      "Epoch 50/50\n",
      "898/898 [==============================] - 127s 142ms/step - loss: 0.2627 - accuracy: 0.9065 - val_loss: 1.3545 - val_accuracy: 0.6289\n"
     ]
    }
   ],
   "source": [
    "history = model.fit_generator(train_generator, validation_data=val_generator, epochs=50)"
   ]
  },
  {
   "cell_type": "code",
   "execution_count": 15,
   "id": "cc9af9c7-e02a-4717-88b6-d21eafb25863",
   "metadata": {},
   "outputs": [
    {
     "data": {
      "text/plain": [
       "[<matplotlib.lines.Line2D at 0x7f6c50ab2970>]"
      ]
     },
     "execution_count": 15,
     "metadata": {},
     "output_type": "execute_result"
    },
    {
     "data": {
      "image/png": "[encoded data removed]",
      "text/plain": [
       "<Figure size 648x648 with 1 Axes>"
      ]
     },
     "metadata": {
      "needs_background": "light"
     },
     "output_type": "display_data"
    }
   ],
   "source": [
    "import matplotlib.pyplot as plt\n",
    "plt.figure(figsize=(9, 9))\n",
    "plt.plot(history.history['accuracy'])\n",
    "plt.plot(history.history['val_accuracy'])"
   ]
  },
  {
   "cell_type": "code",
   "execution_count": 16,
   "id": "0a70a2c5-50a4-49f5-8820-7ad02c07352b",
   "metadata": {},
   "outputs": [],
   "source": [
    "model.save('emoji_model.h5')"
   ]
  },
  {
   "cell_type": "code",
   "execution_count": 17,
   "id": "54ab719c-9992-4cd1-b97e-e21028e460de",
   "metadata": {},
   "outputs": [
    {
     "data": {
      "text/plain": [
       "{'angry': 0,\n",
       " 'disgust': 1,\n",
       " 'fear': 2,\n",
       " 'happy': 3,\n",
       " 'neutral': 4,\n",
       " 'sad': 5,\n",
       " 'surprise': 6}"
      ]
     },
     "execution_count": 17,
     "metadata": {},
     "output_type": "execute_result"
    }
   ],
   "source": [
    "train_generator.class_indices"
   ]
  },
  {
   "cell_type": "code",
   "execution_count": null,
   "id": "ac616b35-9f89-4a1f-90c6-e28fc2506e9b",
   "metadata": {},
   "outputs": [],
   "source": []
  }
 ],
 "metadata": {
  "kernelspec": {
   "display_name": "Python 3 (ipykernel)",
   "language": "python",
   "name": "python3"
  },
  "language_info": {
   "codemirror_mode": {
    "name": "ipython",
    "version": 3
   },
   "file_extension": ".py",
   "mimetype": "text/x-python",
   "name": "python",
   "nbconvert_exporter": "python",
   "pygments_lexer": "ipython3",
   "version": "3.9.12"
  }
 },
 "nbformat": 4,
 "nbformat_minor": 5
}
